{
 "cells": [
  {
   "cell_type": "code",
   "execution_count": 1,
   "metadata": {},
   "outputs": [],
   "source": [
    "import pandas as pd\n",
    "from mlxtend.frequent_patterns import association_rules, apriori"
   ]
  },
  {
   "cell_type": "markdown",
   "metadata": {},
   "source": [
    "# Read dataset"
   ]
  },
  {
   "cell_type": "code",
   "execution_count": 17,
   "metadata": {},
   "outputs": [],
   "source": [
    "sales_receipts = pd.read_csv(\"dataset/201904 sales reciepts.csv\")"
   ]
  },
  {
   "cell_type": "code",
   "execution_count": 18,
   "metadata": {},
   "outputs": [],
   "source": [
    "products = pd.read_csv(\"dataset/product.csv\")"
   ]
  },
  {
   "cell_type": "markdown",
   "metadata": {},
   "source": [
    "# Data merge"
   ]
  },
  {
   "cell_type": "code",
   "execution_count": 19,
   "metadata": {},
   "outputs": [],
   "source": [
    "sales_receipts = sales_receipts[[\"transaction_id\", \"transaction_date\", \"customer_id\", \"product_id\", \"sales_outlet_id\", \"quantity\"]]\n",
    "products = products[[\"product_id\", \"product\", \"product_category\"]]"
   ]
  },
  {
   "cell_type": "code",
   "execution_count": 20,
   "metadata": {},
   "outputs": [],
   "source": [
    "dataset = pd.merge(sales_receipts, products, on=\"product_id\", how=\"left\")"
   ]
  },
  {
   "cell_type": "code",
   "execution_count": 21,
   "metadata": {},
   "outputs": [
    {
     "data": {
      "text/html": [
       "<div>\n",
       "<style scoped>\n",
       "    .dataframe tbody tr th:only-of-type {\n",
       "        vertical-align: middle;\n",
       "    }\n",
       "\n",
       "    .dataframe tbody tr th {\n",
       "        vertical-align: top;\n",
       "    }\n",
       "\n",
       "    .dataframe thead th {\n",
       "        text-align: right;\n",
       "    }\n",
       "</style>\n",
       "<table border=\"1\" class=\"dataframe\">\n",
       "  <thead>\n",
       "    <tr style=\"text-align: right;\">\n",
       "      <th></th>\n",
       "      <th>transaction_id</th>\n",
       "      <th>transaction_date</th>\n",
       "      <th>customer_id</th>\n",
       "      <th>product_id</th>\n",
       "      <th>sales_outlet_id</th>\n",
       "      <th>quantity</th>\n",
       "      <th>product</th>\n",
       "      <th>product_category</th>\n",
       "    </tr>\n",
       "  </thead>\n",
       "  <tbody>\n",
       "    <tr>\n",
       "      <th>0</th>\n",
       "      <td>7</td>\n",
       "      <td>2019-04-01</td>\n",
       "      <td>558</td>\n",
       "      <td>52</td>\n",
       "      <td>3</td>\n",
       "      <td>1</td>\n",
       "      <td>Traditional Blend Chai Rg</td>\n",
       "      <td>Tea</td>\n",
       "    </tr>\n",
       "    <tr>\n",
       "      <th>1</th>\n",
       "      <td>11</td>\n",
       "      <td>2019-04-01</td>\n",
       "      <td>781</td>\n",
       "      <td>27</td>\n",
       "      <td>3</td>\n",
       "      <td>2</td>\n",
       "      <td>Brazilian Lg</td>\n",
       "      <td>Coffee</td>\n",
       "    </tr>\n",
       "    <tr>\n",
       "      <th>2</th>\n",
       "      <td>19</td>\n",
       "      <td>2019-04-01</td>\n",
       "      <td>788</td>\n",
       "      <td>46</td>\n",
       "      <td>3</td>\n",
       "      <td>2</td>\n",
       "      <td>Serenity Green Tea Rg</td>\n",
       "      <td>Tea</td>\n",
       "    </tr>\n",
       "    <tr>\n",
       "      <th>3</th>\n",
       "      <td>32</td>\n",
       "      <td>2019-04-01</td>\n",
       "      <td>683</td>\n",
       "      <td>23</td>\n",
       "      <td>3</td>\n",
       "      <td>2</td>\n",
       "      <td>Our Old Time Diner Blend Rg</td>\n",
       "      <td>Coffee</td>\n",
       "    </tr>\n",
       "    <tr>\n",
       "      <th>4</th>\n",
       "      <td>33</td>\n",
       "      <td>2019-04-01</td>\n",
       "      <td>99</td>\n",
       "      <td>34</td>\n",
       "      <td>3</td>\n",
       "      <td>1</td>\n",
       "      <td>Jamaican Coffee River Sm</td>\n",
       "      <td>Coffee</td>\n",
       "    </tr>\n",
       "  </tbody>\n",
       "</table>\n",
       "</div>"
      ],
      "text/plain": [
       "   transaction_id  ... product_category\n",
       "0               7  ...              Tea\n",
       "1              11  ...           Coffee\n",
       "2              19  ...              Tea\n",
       "3              32  ...           Coffee\n",
       "4              33  ...           Coffee\n",
       "\n",
       "[5 rows x 8 columns]"
      ]
     },
     "execution_count": 21,
     "metadata": {},
     "output_type": "execute_result"
    }
   ],
   "source": [
    "dataset.head()"
   ]
  },
  {
   "cell_type": "markdown",
   "metadata": {},
   "source": [
    "## Remove sizes"
   ]
  },
  {
   "cell_type": "code",
   "execution_count": 22,
   "metadata": {},
   "outputs": [
    {
     "data": {
      "text/plain": [
       "array(['Dark chocolate Lg', 'Dark chocolate Rg', 'Dark chocolate'],\n",
       "      dtype=object)"
      ]
     },
     "execution_count": 22,
     "metadata": {},
     "output_type": "execute_result"
    }
   ],
   "source": [
    "dataset[dataset[\"product\"].str.contains(\"Dark chocolate\")][\"product\"].unique()"
   ]
  },
  {
   "cell_type": "code",
   "execution_count": 23,
   "metadata": {},
   "outputs": [
    {
     "data": {
      "text/plain": [
       "80"
      ]
     },
     "execution_count": 23,
     "metadata": {},
     "output_type": "execute_result"
    }
   ],
   "source": [
    "dataset[\"product\"].nunique()"
   ]
  },
  {
   "cell_type": "code",
   "execution_count": 24,
   "metadata": {},
   "outputs": [],
   "source": [
    "dataset[\"product\"] = dataset[\"product\"].str.replace(' Rg', '')\n",
    "dataset[\"product\"] = dataset[\"product\"].str.replace(' Lg', '')\n",
    "dataset[\"product\"] = dataset[\"product\"].str.replace(' Sm', '')\n"
   ]
  },
  {
   "cell_type": "code",
   "execution_count": 25,
   "metadata": {},
   "outputs": [
    {
     "data": {
      "text/plain": [
       "45"
      ]
     },
     "execution_count": 25,
     "metadata": {},
     "output_type": "execute_result"
    }
   ],
   "source": [
    "dataset.head()\n",
    "dataset[\"product\"].nunique()"
   ]
  },
  {
   "cell_type": "code",
   "execution_count": null,
   "metadata": {},
   "outputs": [],
   "source": [
    "print(dataset[\"product\"].unique())"
   ]
  },
  {
   "cell_type": "markdown",
   "metadata": {},
   "source": [
    "## Choose product subset"
   ]
  },
  {
   "cell_type": "code",
   "execution_count": 27,
   "metadata": {},
   "outputs": [],
   "source": [
    "products_to_keep = [\"Cappuccino\", \"Latte\", \"Espresso shot\", \"Dark chocolate\", \"Sugar Free Vanilla syrup\", \"Carmel syrup\",\n",
    "                    \"Chocolate syrup\", \"Hazelnut syrup\", \"Ginger Scone\", \"Chocolate Croissant\", \"Jumbo Savory Scone\",\n",
    "                    \"Cranberry Scone\", \"Hazelnut Biscotti\", \"Croissant\", \"Almond Croissant\", \"Oatmeal Scone\", \"Chocolate Chip Biscotti\",\n",
    "                    \"Ginger Biscotti\"\n",
    "                    ]"
   ]
  },
  {
   "cell_type": "code",
   "execution_count": 34,
   "metadata": {},
   "outputs": [],
   "source": [
    "dataset = dataset[dataset[\"product\"].isin(products_to_keep)]"
   ]
  },
  {
   "cell_type": "code",
   "execution_count": 35,
   "metadata": {},
   "outputs": [
    {
     "data": {
      "text/html": [
       "<div>\n",
       "<style scoped>\n",
       "    .dataframe tbody tr th:only-of-type {\n",
       "        vertical-align: middle;\n",
       "    }\n",
       "\n",
       "    .dataframe tbody tr th {\n",
       "        vertical-align: top;\n",
       "    }\n",
       "\n",
       "    .dataframe thead th {\n",
       "        text-align: right;\n",
       "    }\n",
       "</style>\n",
       "<table border=\"1\" class=\"dataframe\">\n",
       "  <thead>\n",
       "    <tr style=\"text-align: right;\">\n",
       "      <th></th>\n",
       "      <th>transaction_id</th>\n",
       "      <th>transaction_date</th>\n",
       "      <th>customer_id</th>\n",
       "      <th>product_id</th>\n",
       "      <th>sales_outlet_id</th>\n",
       "      <th>quantity</th>\n",
       "      <th>product</th>\n",
       "      <th>product_category</th>\n",
       "      <th>transaction</th>\n",
       "    </tr>\n",
       "  </thead>\n",
       "  <tbody>\n",
       "    <tr>\n",
       "      <th>16</th>\n",
       "      <td>108</td>\n",
       "      <td>2019-04-01</td>\n",
       "      <td>65</td>\n",
       "      <td>40</td>\n",
       "      <td>3</td>\n",
       "      <td>1</td>\n",
       "      <td>Cappuccino</td>\n",
       "      <td>Coffee</td>\n",
       "      <td>108_65</td>\n",
       "    </tr>\n",
       "    <tr>\n",
       "      <th>17</th>\n",
       "      <td>112</td>\n",
       "      <td>2019-04-01</td>\n",
       "      <td>90</td>\n",
       "      <td>37</td>\n",
       "      <td>3</td>\n",
       "      <td>2</td>\n",
       "      <td>Espresso shot</td>\n",
       "      <td>Coffee</td>\n",
       "      <td>112_90</td>\n",
       "    </tr>\n",
       "    <tr>\n",
       "      <th>20</th>\n",
       "      <td>127</td>\n",
       "      <td>2019-04-01</td>\n",
       "      <td>116</td>\n",
       "      <td>41</td>\n",
       "      <td>3</td>\n",
       "      <td>2</td>\n",
       "      <td>Cappuccino</td>\n",
       "      <td>Coffee</td>\n",
       "      <td>127_116</td>\n",
       "    </tr>\n",
       "    <tr>\n",
       "      <th>21</th>\n",
       "      <td>134</td>\n",
       "      <td>2019-04-01</td>\n",
       "      <td>189</td>\n",
       "      <td>38</td>\n",
       "      <td>3</td>\n",
       "      <td>2</td>\n",
       "      <td>Latte</td>\n",
       "      <td>Coffee</td>\n",
       "      <td>134_189</td>\n",
       "    </tr>\n",
       "    <tr>\n",
       "      <th>22</th>\n",
       "      <td>135</td>\n",
       "      <td>2019-04-01</td>\n",
       "      <td>131</td>\n",
       "      <td>40</td>\n",
       "      <td>3</td>\n",
       "      <td>1</td>\n",
       "      <td>Cappuccino</td>\n",
       "      <td>Coffee</td>\n",
       "      <td>135_131</td>\n",
       "    </tr>\n",
       "  </tbody>\n",
       "</table>\n",
       "</div>"
      ],
      "text/plain": [
       "    transaction_id transaction_date  ...  product_category  transaction\n",
       "16             108       2019-04-01  ...            Coffee       108_65\n",
       "17             112       2019-04-01  ...            Coffee       112_90\n",
       "20             127       2019-04-01  ...            Coffee      127_116\n",
       "21             134       2019-04-01  ...            Coffee      134_189\n",
       "22             135       2019-04-01  ...            Coffee      135_131\n",
       "\n",
       "[5 rows x 9 columns]"
      ]
     },
     "execution_count": 35,
     "metadata": {},
     "output_type": "execute_result"
    }
   ],
   "source": [
    "dataset.head()"
   ]
  },
  {
   "cell_type": "markdown",
   "metadata": {},
   "source": [
    "## Clean transactions"
   ]
  },
  {
   "cell_type": "code",
   "execution_count": null,
   "metadata": {},
   "outputs": [],
   "source": [
    "dataset[\"transaction\"] = dataset[\"transaction_id\"].astype(str) + \"_\" + dataset[\"customer_id\"].astype(str)"
   ]
  },
  {
   "cell_type": "code",
   "execution_count": 37,
   "metadata": {},
   "outputs": [
    {
     "data": {
      "text/html": [
       "<div>\n",
       "<style scoped>\n",
       "    .dataframe tbody tr th:only-of-type {\n",
       "        vertical-align: middle;\n",
       "    }\n",
       "\n",
       "    .dataframe tbody tr th {\n",
       "        vertical-align: top;\n",
       "    }\n",
       "\n",
       "    .dataframe thead th {\n",
       "        text-align: right;\n",
       "    }\n",
       "</style>\n",
       "<table border=\"1\" class=\"dataframe\">\n",
       "  <thead>\n",
       "    <tr style=\"text-align: right;\">\n",
       "      <th></th>\n",
       "      <th>transaction</th>\n",
       "      <th>count</th>\n",
       "    </tr>\n",
       "  </thead>\n",
       "  <tbody>\n",
       "    <tr>\n",
       "      <th>0</th>\n",
       "      <td>209_0</td>\n",
       "      <td>31</td>\n",
       "    </tr>\n",
       "    <tr>\n",
       "      <th>1</th>\n",
       "      <td>206_0</td>\n",
       "      <td>30</td>\n",
       "    </tr>\n",
       "    <tr>\n",
       "      <th>2</th>\n",
       "      <td>204_0</td>\n",
       "      <td>27</td>\n",
       "    </tr>\n",
       "    <tr>\n",
       "      <th>3</th>\n",
       "      <td>208_0</td>\n",
       "      <td>25</td>\n",
       "    </tr>\n",
       "    <tr>\n",
       "      <th>4</th>\n",
       "      <td>203_0</td>\n",
       "      <td>24</td>\n",
       "    </tr>\n",
       "    <tr>\n",
       "      <th>...</th>\n",
       "      <td>...</td>\n",
       "      <td>...</td>\n",
       "    </tr>\n",
       "    <tr>\n",
       "      <th>8381</th>\n",
       "      <td>135_523</td>\n",
       "      <td>1</td>\n",
       "    </tr>\n",
       "    <tr>\n",
       "      <th>8382</th>\n",
       "      <td>130_157</td>\n",
       "      <td>1</td>\n",
       "    </tr>\n",
       "    <tr>\n",
       "      <th>8383</th>\n",
       "      <td>121_465</td>\n",
       "      <td>1</td>\n",
       "    </tr>\n",
       "    <tr>\n",
       "      <th>8384</th>\n",
       "      <td>118_748</td>\n",
       "      <td>1</td>\n",
       "    </tr>\n",
       "    <tr>\n",
       "      <th>8385</th>\n",
       "      <td>763_8030</td>\n",
       "      <td>1</td>\n",
       "    </tr>\n",
       "  </tbody>\n",
       "</table>\n",
       "<p>8386 rows × 2 columns</p>\n",
       "</div>"
      ],
      "text/plain": [
       "     transaction  count\n",
       "0          209_0     31\n",
       "1          206_0     30\n",
       "2          204_0     27\n",
       "3          208_0     25\n",
       "4          203_0     24\n",
       "...          ...    ...\n",
       "8381     135_523      1\n",
       "8382     130_157      1\n",
       "8383     121_465      1\n",
       "8384     118_748      1\n",
       "8385    763_8030      1\n",
       "\n",
       "[8386 rows x 2 columns]"
      ]
     },
     "execution_count": 37,
     "metadata": {},
     "output_type": "execute_result"
    }
   ],
   "source": [
    "num_of_items_per_transaction = dataset[\"transaction\"].value_counts().reset_index()\n",
    "num_of_items_per_transaction"
   ]
  },
  {
   "cell_type": "code",
   "execution_count": 38,
   "metadata": {},
   "outputs": [],
   "source": [
    "valid_transaction = num_of_items_per_transaction[(num_of_items_per_transaction[\"count\"] > 1)][\"transaction\"].tolist()"
   ]
  },
  {
   "cell_type": "code",
   "execution_count": 39,
   "metadata": {},
   "outputs": [],
   "source": [
    "dataset = dataset[dataset[\"transaction\"].isin(valid_transaction)]"
   ]
  },
  {
   "cell_type": "code",
   "execution_count": 40,
   "metadata": {},
   "outputs": [
    {
     "data": {
      "text/plain": [
       "(10189, 9)"
      ]
     },
     "execution_count": 40,
     "metadata": {},
     "output_type": "execute_result"
    }
   ],
   "source": [
    "dataset.shape"
   ]
  },
  {
   "cell_type": "code",
   "execution_count": 41,
   "metadata": {},
   "outputs": [
    {
     "data": {
      "text/plain": [
       "product_category\n",
       "Bakery                3800\n",
       "Coffee                3174\n",
       "Flavours              2246\n",
       "Drinking Chocolate     947\n",
       "Packaged Chocolate      22\n",
       "Name: count, dtype: int64"
      ]
     },
     "execution_count": 41,
     "metadata": {},
     "output_type": "execute_result"
    }
   ],
   "source": [
    "dataset[\"product\"].value_counts()\n",
    "dataset[\"product_category\"].value_counts()"
   ]
  },
  {
   "cell_type": "markdown",
   "metadata": {},
   "source": [
    "# Popularity recommendation engine"
   ]
  },
  {
   "cell_type": "code",
   "execution_count": 42,
   "metadata": {},
   "outputs": [],
   "source": [
    "product_recommendation = dataset.groupby([\"product\", \"product_category\"]).count().reset_index()"
   ]
  },
  {
   "cell_type": "code",
   "execution_count": 43,
   "metadata": {},
   "outputs": [
    {
     "data": {
      "text/html": [
       "<div>\n",
       "<style scoped>\n",
       "    .dataframe tbody tr th:only-of-type {\n",
       "        vertical-align: middle;\n",
       "    }\n",
       "\n",
       "    .dataframe tbody tr th {\n",
       "        vertical-align: top;\n",
       "    }\n",
       "\n",
       "    .dataframe thead th {\n",
       "        text-align: right;\n",
       "    }\n",
       "</style>\n",
       "<table border=\"1\" class=\"dataframe\">\n",
       "  <thead>\n",
       "    <tr style=\"text-align: right;\">\n",
       "      <th></th>\n",
       "      <th>product</th>\n",
       "      <th>product_category</th>\n",
       "      <th>transaction_id</th>\n",
       "      <th>transaction_date</th>\n",
       "      <th>customer_id</th>\n",
       "      <th>product_id</th>\n",
       "      <th>sales_outlet_id</th>\n",
       "      <th>quantity</th>\n",
       "      <th>transaction</th>\n",
       "    </tr>\n",
       "  </thead>\n",
       "  <tbody>\n",
       "    <tr>\n",
       "      <th>0</th>\n",
       "      <td>Almond Croissant</td>\n",
       "      <td>Bakery</td>\n",
       "      <td>347</td>\n",
       "      <td>347</td>\n",
       "      <td>347</td>\n",
       "      <td>347</td>\n",
       "      <td>347</td>\n",
       "      <td>347</td>\n",
       "      <td>347</td>\n",
       "    </tr>\n",
       "    <tr>\n",
       "      <th>1</th>\n",
       "      <td>Cappuccino</td>\n",
       "      <td>Coffee</td>\n",
       "      <td>1290</td>\n",
       "      <td>1290</td>\n",
       "      <td>1290</td>\n",
       "      <td>1290</td>\n",
       "      <td>1290</td>\n",
       "      <td>1290</td>\n",
       "      <td>1290</td>\n",
       "    </tr>\n",
       "    <tr>\n",
       "      <th>2</th>\n",
       "      <td>Carmel syrup</td>\n",
       "      <td>Flavours</td>\n",
       "      <td>561</td>\n",
       "      <td>561</td>\n",
       "      <td>561</td>\n",
       "      <td>561</td>\n",
       "      <td>561</td>\n",
       "      <td>561</td>\n",
       "      <td>561</td>\n",
       "    </tr>\n",
       "    <tr>\n",
       "      <th>3</th>\n",
       "      <td>Chocolate Chip Biscotti</td>\n",
       "      <td>Bakery</td>\n",
       "      <td>352</td>\n",
       "      <td>352</td>\n",
       "      <td>352</td>\n",
       "      <td>352</td>\n",
       "      <td>352</td>\n",
       "      <td>352</td>\n",
       "      <td>352</td>\n",
       "    </tr>\n",
       "    <tr>\n",
       "      <th>4</th>\n",
       "      <td>Chocolate Croissant</td>\n",
       "      <td>Bakery</td>\n",
       "      <td>636</td>\n",
       "      <td>636</td>\n",
       "      <td>636</td>\n",
       "      <td>636</td>\n",
       "      <td>636</td>\n",
       "      <td>636</td>\n",
       "      <td>636</td>\n",
       "    </tr>\n",
       "  </tbody>\n",
       "</table>\n",
       "</div>"
      ],
      "text/plain": [
       "                   product product_category  ...  quantity  transaction\n",
       "0         Almond Croissant           Bakery  ...       347          347\n",
       "1               Cappuccino           Coffee  ...      1290         1290\n",
       "2             Carmel syrup         Flavours  ...       561          561\n",
       "3  Chocolate Chip Biscotti           Bakery  ...       352          352\n",
       "4      Chocolate Croissant           Bakery  ...       636          636\n",
       "\n",
       "[5 rows x 9 columns]"
      ]
     },
     "execution_count": 43,
     "metadata": {},
     "output_type": "execute_result"
    }
   ],
   "source": [
    "product_recommendation.head()"
   ]
  },
  {
   "cell_type": "code",
   "execution_count": 44,
   "metadata": {},
   "outputs": [],
   "source": [
    "product_recommendation = product_recommendation[[\"product\", \"product_category\", \"transaction_id\"]]\n",
    "product_recommendation = product_recommendation.rename(columns={\"transaction_id\": \"num_of_transactions\"})"
   ]
  },
  {
   "cell_type": "code",
   "execution_count": 46,
   "metadata": {},
   "outputs": [],
   "source": [
    "product_recommendation.to_csv(\"api/recommendation_dataset/popularity_recommendation.csv\", index=False)"
   ]
  },
  {
   "cell_type": "markdown",
   "metadata": {},
   "source": [
    "# Apriori recommendation engine"
   ]
  },
  {
   "cell_type": "code",
   "execution_count": 47,
   "metadata": {},
   "outputs": [],
   "source": [
    "train_basket = (dataset.groupby([\"transaction\", \"product\"])[\"product\"].count().reset_index(name=\"count\"))"
   ]
  },
  {
   "cell_type": "code",
   "execution_count": 50,
   "metadata": {},
   "outputs": [],
   "source": [
    "wide_basket = train_basket.pivot_table(index=\"transaction\", columns=\"product\", values=\"count\").fillna(0)\n",
    "wide_basket.head()"
   ]
  },
  {
   "cell_type": "code",
   "execution_count": 53,
   "metadata": {},
   "outputs": [],
   "source": [
    "def encode_units(x):\n",
    "    if x <= 0:\n",
    "        return 0\n",
    "    else:\n",
    "        return 1\n",
    "\n",
    "wide_basket = wide_basket.map(encode_units)"
   ]
  },
  {
   "cell_type": "code",
   "execution_count": null,
   "metadata": {},
   "outputs": [],
   "source": [
    "wide_basket.head()"
   ]
  },
  {
   "cell_type": "code",
   "execution_count": 55,
   "metadata": {},
   "outputs": [],
   "source": [
    "frequent_items = apriori(wide_basket, min_support=0.05, use_colnames=True)"
   ]
  },
  {
   "cell_type": "code",
   "execution_count": null,
   "metadata": {},
   "outputs": [],
   "source": [
    "frequent_items.head(20)"
   ]
  },
  {
   "cell_type": "code",
   "execution_count": 59,
   "metadata": {},
   "outputs": [],
   "source": [
    "rules_basket = association_rules(frequent_items, metric=\"lift\", min_threshold=1)"
   ]
  },
  {
   "cell_type": "code",
   "execution_count": 60,
   "metadata": {},
   "outputs": [
    {
     "data": {
      "text/html": [
       "<div>\n",
       "<style scoped>\n",
       "    .dataframe tbody tr th:only-of-type {\n",
       "        vertical-align: middle;\n",
       "    }\n",
       "\n",
       "    .dataframe tbody tr th {\n",
       "        vertical-align: top;\n",
       "    }\n",
       "\n",
       "    .dataframe thead th {\n",
       "        text-align: right;\n",
       "    }\n",
       "</style>\n",
       "<table border=\"1\" class=\"dataframe\">\n",
       "  <thead>\n",
       "    <tr style=\"text-align: right;\">\n",
       "      <th></th>\n",
       "      <th>antecedents</th>\n",
       "      <th>consequents</th>\n",
       "      <th>antecedent support</th>\n",
       "      <th>consequent support</th>\n",
       "      <th>support</th>\n",
       "      <th>confidence</th>\n",
       "      <th>lift</th>\n",
       "      <th>leverage</th>\n",
       "      <th>conviction</th>\n",
       "      <th>zhangs_metric</th>\n",
       "    </tr>\n",
       "  </thead>\n",
       "  <tbody>\n",
       "    <tr>\n",
       "      <th>0</th>\n",
       "      <td>(Cappuccino)</td>\n",
       "      <td>(Almond Croissant)</td>\n",
       "      <td>0.388889</td>\n",
       "      <td>0.115646</td>\n",
       "      <td>0.053288</td>\n",
       "      <td>0.137026</td>\n",
       "      <td>1.184874</td>\n",
       "      <td>0.008314</td>\n",
       "      <td>1.024775</td>\n",
       "      <td>0.255319</td>\n",
       "    </tr>\n",
       "    <tr>\n",
       "      <th>1</th>\n",
       "      <td>(Almond Croissant)</td>\n",
       "      <td>(Cappuccino)</td>\n",
       "      <td>0.115646</td>\n",
       "      <td>0.388889</td>\n",
       "      <td>0.053288</td>\n",
       "      <td>0.460784</td>\n",
       "      <td>1.184874</td>\n",
       "      <td>0.008314</td>\n",
       "      <td>1.133333</td>\n",
       "      <td>0.176432</td>\n",
       "    </tr>\n",
       "    <tr>\n",
       "      <th>2</th>\n",
       "      <td>(Almond Croissant)</td>\n",
       "      <td>(Dark chocolate)</td>\n",
       "      <td>0.115646</td>\n",
       "      <td>0.277022</td>\n",
       "      <td>0.057445</td>\n",
       "      <td>0.496732</td>\n",
       "      <td>1.793115</td>\n",
       "      <td>0.025409</td>\n",
       "      <td>1.436567</td>\n",
       "      <td>0.500152</td>\n",
       "    </tr>\n",
       "    <tr>\n",
       "      <th>3</th>\n",
       "      <td>(Dark chocolate)</td>\n",
       "      <td>(Almond Croissant)</td>\n",
       "      <td>0.277022</td>\n",
       "      <td>0.115646</td>\n",
       "      <td>0.057445</td>\n",
       "      <td>0.207367</td>\n",
       "      <td>1.793115</td>\n",
       "      <td>0.025409</td>\n",
       "      <td>1.115717</td>\n",
       "      <td>0.611791</td>\n",
       "    </tr>\n",
       "    <tr>\n",
       "      <th>4</th>\n",
       "      <td>(Almond Croissant)</td>\n",
       "      <td>(Latte)</td>\n",
       "      <td>0.115646</td>\n",
       "      <td>0.382086</td>\n",
       "      <td>0.054422</td>\n",
       "      <td>0.470588</td>\n",
       "      <td>1.231629</td>\n",
       "      <td>0.010235</td>\n",
       "      <td>1.167171</td>\n",
       "      <td>0.212660</td>\n",
       "    </tr>\n",
       "  </tbody>\n",
       "</table>\n",
       "</div>"
      ],
      "text/plain": [
       "          antecedents         consequents  ...  conviction  zhangs_metric\n",
       "0        (Cappuccino)  (Almond Croissant)  ...    1.024775       0.255319\n",
       "1  (Almond Croissant)        (Cappuccino)  ...    1.133333       0.176432\n",
       "2  (Almond Croissant)    (Dark chocolate)  ...    1.436567       0.500152\n",
       "3    (Dark chocolate)  (Almond Croissant)  ...    1.115717       0.611791\n",
       "4  (Almond Croissant)             (Latte)  ...    1.167171       0.212660\n",
       "\n",
       "[5 rows x 10 columns]"
      ]
     },
     "execution_count": 60,
     "metadata": {},
     "output_type": "execute_result"
    }
   ],
   "source": [
    "rules_basket.head()"
   ]
  },
  {
   "cell_type": "code",
   "execution_count": null,
   "metadata": {},
   "outputs": [],
   "source": [
    "rules_basket[rules_basket[\"antecedents\"] == {\"Latte\"}].sort_values(\"confidence\", ascending=False)"
   ]
  },
  {
   "cell_type": "markdown",
   "metadata": {},
   "source": [
    "## Save in json format"
   ]
  },
  {
   "cell_type": "code",
   "execution_count": 62,
   "metadata": {},
   "outputs": [],
   "source": [
    "product_categories = dataset[[\"product\", \"product_category\"]].drop_duplicates().set_index(\"product\").to_dict()[\"product_category\"]"
   ]
  },
  {
   "cell_type": "code",
   "execution_count": 63,
   "metadata": {},
   "outputs": [],
   "source": [
    "recommendations_json = {}\n",
    "antecedents = rules_basket[\"antecedents\"].unique()\n",
    "for antecedent in antecedents:\n",
    "    df_rec = rules_basket[rules_basket[\"antecedents\"] == antecedent]\n",
    "    df_rec = df_rec.sort_values(\"confidence\", ascending=False)\n",
    "    key = \"_\".join(antecedent)\n",
    "    recommendations_json[key] = []\n",
    "    for _,row in df_rec.iterrows():\n",
    "        objects = row[\"consequents\"]\n",
    "        for object in objects:\n",
    "            already_exist = False\n",
    "            for current_object in recommendations_json[key]:\n",
    "                if object == current_object[\"product\"]:\n",
    "                    already_exist = True\n",
    "            if already_exist:\n",
    "                continue\n",
    "            rec_dict = {\n",
    "                \"product\": object,\n",
    "                \"product_category\": product_categories[object],\n",
    "                \"confidence\": row[\"confidence\"]\n",
    "            }\n",
    "            recommendations_json[key].append(rec_dict)\n",
    "\n"
   ]
  },
  {
   "cell_type": "code",
   "execution_count": 64,
   "metadata": {},
   "outputs": [
    {
     "data": {
      "text/plain": [
       "{'Cappuccino': [{'product': 'Sugar Free Vanilla syrup',\n",
       "   'product_category': 'Flavours',\n",
       "   'confidence': 0.29057337220602525},\n",
       "  {'product': 'Chocolate syrup',\n",
       "   'product_category': 'Flavours',\n",
       "   'confidence': 0.2818270165208941},\n",
       "  {'product': 'Carmel syrup',\n",
       "   'product_category': 'Flavours',\n",
       "   'confidence': 0.26433430515063167},\n",
       "  {'product': 'Hazelnut syrup',\n",
       "   'product_category': 'Flavours',\n",
       "   'confidence': 0.23226433430515062},\n",
       "  {'product': 'Ginger Scone',\n",
       "   'product_category': 'Bakery',\n",
       "   'confidence': 0.15354713313896987},\n",
       "  {'product': 'Chocolate Chip Biscotti',\n",
       "   'product_category': 'Bakery',\n",
       "   'confidence': 0.14480077745383868},\n",
       "  {'product': 'Chocolate Croissant',\n",
       "   'product_category': 'Bakery',\n",
       "   'confidence': 0.14480077745383868},\n",
       "  {'product': 'Croissant',\n",
       "   'product_category': 'Bakery',\n",
       "   'confidence': 0.14480077745383868},\n",
       "  {'product': 'Jumbo Savory Scone',\n",
       "   'product_category': 'Bakery',\n",
       "   'confidence': 0.14188532555879496},\n",
       "  {'product': 'Ginger Biscotti',\n",
       "   'product_category': 'Bakery',\n",
       "   'confidence': 0.1379980563654033},\n",
       "  {'product': 'Almond Croissant',\n",
       "   'product_category': 'Bakery',\n",
       "   'confidence': 0.13702623906705538},\n",
       "  {'product': 'Cranberry Scone',\n",
       "   'product_category': 'Bakery',\n",
       "   'confidence': 0.13508260447035958}],\n",
       " 'Almond Croissant': [{'product': 'Dark chocolate',\n",
       "   'product_category': 'Packaged Chocolate',\n",
       "   'confidence': 0.4967320261437908},\n",
       "  {'product': 'Latte',\n",
       "   'product_category': 'Coffee',\n",
       "   'confidence': 0.47058823529411764},\n",
       "  {'product': 'Cappuccino',\n",
       "   'product_category': 'Coffee',\n",
       "   'confidence': 0.46078431372549017}],\n",
       " 'Dark chocolate': [{'product': 'Espresso shot',\n",
       "   'product_category': 'Coffee',\n",
       "   'confidence': 0.22100954979536153},\n",
       "  {'product': 'Chocolate Croissant',\n",
       "   'product_category': 'Bakery',\n",
       "   'confidence': 0.2169167803547067},\n",
       "  {'product': 'Ginger Scone',\n",
       "   'product_category': 'Bakery',\n",
       "   'confidence': 0.21555252387448842},\n",
       "  {'product': 'Almond Croissant',\n",
       "   'product_category': 'Bakery',\n",
       "   'confidence': 0.20736698499317874},\n",
       "  {'product': 'Cranberry Scone',\n",
       "   'product_category': 'Bakery',\n",
       "   'confidence': 0.2032742155525239},\n",
       "  {'product': 'Carmel syrup',\n",
       "   'product_category': 'Flavours',\n",
       "   'confidence': 0.19918144611186905},\n",
       "  {'product': 'Chocolate Chip Biscotti',\n",
       "   'product_category': 'Bakery',\n",
       "   'confidence': 0.19372442019099592},\n",
       "  {'product': 'Chocolate syrup',\n",
       "   'product_category': 'Flavours',\n",
       "   'confidence': 0.19099590723055934},\n",
       "  {'product': 'Jumbo Savory Scone',\n",
       "   'product_category': 'Bakery',\n",
       "   'confidence': 0.18553888130968624},\n",
       "  {'product': 'Croissant',\n",
       "   'product_category': 'Bakery',\n",
       "   'confidence': 0.18417462482946795}],\n",
       " 'Latte': [{'product': 'Sugar Free Vanilla syrup',\n",
       "   'product_category': 'Flavours',\n",
       "   'confidence': 0.28486646884273},\n",
       "  {'product': 'Carmel syrup',\n",
       "   'product_category': 'Flavours',\n",
       "   'confidence': 0.2818991097922849},\n",
       "  {'product': 'Chocolate syrup',\n",
       "   'product_category': 'Flavours',\n",
       "   'confidence': 0.27002967359050445},\n",
       "  {'product': 'Hazelnut syrup',\n",
       "   'product_category': 'Flavours',\n",
       "   'confidence': 0.26508407517309596},\n",
       "  {'product': 'Croissant',\n",
       "   'product_category': 'Bakery',\n",
       "   'confidence': 0.14935707220573688},\n",
       "  {'product': 'Chocolate Croissant',\n",
       "   'product_category': 'Bakery',\n",
       "   'confidence': 0.1444114737883284},\n",
       "  {'product': 'Ginger Scone',\n",
       "   'product_category': 'Bakery',\n",
       "   'confidence': 0.1444114737883284},\n",
       "  {'product': 'Almond Croissant',\n",
       "   'product_category': 'Bakery',\n",
       "   'confidence': 0.142433234421365},\n",
       "  {'product': 'Ginger Biscotti',\n",
       "   'product_category': 'Bakery',\n",
       "   'confidence': 0.1414441147378833},\n",
       "  {'product': 'Cranberry Scone',\n",
       "   'product_category': 'Bakery',\n",
       "   'confidence': 0.13452027695351138}],\n",
       " 'Carmel syrup': [{'product': 'Latte',\n",
       "   'product_category': 'Coffee',\n",
       "   'confidence': 0.5632411067193677},\n",
       "  {'product': 'Cappuccino',\n",
       "   'product_category': 'Coffee',\n",
       "   'confidence': 0.5375494071146245},\n",
       "  {'product': 'Espresso shot',\n",
       "   'product_category': 'Coffee',\n",
       "   'confidence': 0.31620553359683795},\n",
       "  {'product': 'Dark chocolate',\n",
       "   'product_category': 'Packaged Chocolate',\n",
       "   'confidence': 0.2885375494071146}],\n",
       " 'Chocolate Chip Biscotti': [{'product': 'Cappuccino',\n",
       "   'product_category': 'Coffee',\n",
       "   'confidence': 0.5},\n",
       "  {'product': 'Dark chocolate',\n",
       "   'product_category': 'Packaged Chocolate',\n",
       "   'confidence': 0.47651006711409394}],\n",
       " 'Chocolate Croissant': [{'product': 'Dark chocolate',\n",
       "   'product_category': 'Packaged Chocolate',\n",
       "   'confidence': 0.44289693593314766},\n",
       "  {'product': 'Cappuccino',\n",
       "   'product_category': 'Coffee',\n",
       "   'confidence': 0.415041782729805},\n",
       "  {'product': 'Latte',\n",
       "   'product_category': 'Coffee',\n",
       "   'confidence': 0.40668523676880225}],\n",
       " 'Chocolate syrup': [{'product': 'Cappuccino',\n",
       "   'product_category': 'Coffee',\n",
       "   'confidence': 0.58},\n",
       "  {'product': 'Latte',\n",
       "   'product_category': 'Coffee',\n",
       "   'confidence': 0.5459999999999999},\n",
       "  {'product': 'Espresso shot',\n",
       "   'product_category': 'Coffee',\n",
       "   'confidence': 0.312},\n",
       "  {'product': 'Dark chocolate',\n",
       "   'product_category': 'Packaged Chocolate',\n",
       "   'confidence': 0.27999999999999997}],\n",
       " 'Cranberry Scone': [{'product': 'Dark chocolate',\n",
       "   'product_category': 'Packaged Chocolate',\n",
       "   'confidence': 0.48534201954397393},\n",
       "  {'product': 'Cappuccino',\n",
       "   'product_category': 'Coffee',\n",
       "   'confidence': 0.4527687296416938},\n",
       "  {'product': 'Latte',\n",
       "   'product_category': 'Coffee',\n",
       "   'confidence': 0.4429967426710098}],\n",
       " 'Croissant': [{'product': 'Latte',\n",
       "   'product_category': 'Coffee',\n",
       "   'confidence': 0.5},\n",
       "  {'product': 'Cappuccino',\n",
       "   'product_category': 'Coffee',\n",
       "   'confidence': 0.49337748344370863},\n",
       "  {'product': 'Dark chocolate',\n",
       "   'product_category': 'Packaged Chocolate',\n",
       "   'confidence': 0.4470198675496689}],\n",
       " 'Ginger Biscotti': [{'product': 'Latte',\n",
       "   'product_category': 'Coffee',\n",
       "   'confidence': 0.5088967971530249},\n",
       "  {'product': 'Cappuccino',\n",
       "   'product_category': 'Coffee',\n",
       "   'confidence': 0.505338078291815}],\n",
       " 'Ginger Scone': [{'product': 'Cappuccino',\n",
       "   'product_category': 'Coffee',\n",
       "   'confidence': 0.4475920679886685},\n",
       "  {'product': 'Dark chocolate',\n",
       "   'product_category': 'Packaged Chocolate',\n",
       "   'confidence': 0.4475920679886685},\n",
       "  {'product': 'Latte',\n",
       "   'product_category': 'Coffee',\n",
       "   'confidence': 0.41359773371104813}],\n",
       " 'Hazelnut syrup': [{'product': 'Latte',\n",
       "   'product_category': 'Coffee',\n",
       "   'confidence': 0.5903083700440529},\n",
       "  {'product': 'Cappuccino',\n",
       "   'product_category': 'Coffee',\n",
       "   'confidence': 0.526431718061674},\n",
       "  {'product': 'Espresso shot',\n",
       "   'product_category': 'Coffee',\n",
       "   'confidence': 0.32158590308370044}],\n",
       " 'Jumbo Savory Scone': [{'product': 'Cappuccino',\n",
       "   'product_category': 'Coffee',\n",
       "   'confidence': 0.48026315789473684},\n",
       "  {'product': 'Dark chocolate',\n",
       "   'product_category': 'Packaged Chocolate',\n",
       "   'confidence': 0.4473684210526316}],\n",
       " 'Sugar Free Vanilla syrup': [{'product': 'Cappuccino',\n",
       "   'product_category': 'Coffee',\n",
       "   'confidence': 0.5641509433962264},\n",
       "  {'product': 'Latte',\n",
       "   'product_category': 'Coffee',\n",
       "   'confidence': 0.5433962264150943},\n",
       "  {'product': 'Espresso shot',\n",
       "   'product_category': 'Coffee',\n",
       "   'confidence': 0.30566037735849055}],\n",
       " 'Espresso shot': [{'product': 'Dark chocolate',\n",
       "   'product_category': 'Packaged Chocolate',\n",
       "   'confidence': 0.2924187725631769},\n",
       "  {'product': 'Sugar Free Vanilla syrup',\n",
       "   'product_category': 'Flavours',\n",
       "   'confidence': 0.2924187725631769},\n",
       "  {'product': 'Carmel syrup',\n",
       "   'product_category': 'Flavours',\n",
       "   'confidence': 0.2888086642599278},\n",
       "  {'product': 'Chocolate syrup',\n",
       "   'product_category': 'Flavours',\n",
       "   'confidence': 0.2815884476534296},\n",
       "  {'product': 'Hazelnut syrup',\n",
       "   'product_category': 'Flavours',\n",
       "   'confidence': 0.26353790613718414}]}"
      ]
     },
     "execution_count": 64,
     "metadata": {},
     "output_type": "execute_result"
    }
   ],
   "source": [
    "recommendations_json"
   ]
  },
  {
   "cell_type": "code",
   "execution_count": null,
   "metadata": {},
   "outputs": [],
   "source": []
  },
  {
   "cell_type": "code",
   "execution_count": null,
   "metadata": {},
   "outputs": [],
   "source": []
  },
  {
   "cell_type": "code",
   "execution_count": null,
   "metadata": {},
   "outputs": [],
   "source": []
  }
 ],
 "metadata": {
  "kernelspec": {
   "display_name": "Python 3",
   "language": "python",
   "name": "python3"
  },
  "language_info": {
   "codemirror_mode": {
    "name": "ipython",
    "version": 3
   },
   "file_extension": ".py",
   "mimetype": "text/x-python",
   "name": "python",
   "nbconvert_exporter": "python",
   "pygments_lexer": "ipython3",
   "version": "3.12.6"
  }
 },
 "nbformat": 4,
 "nbformat_minor": 2
}
