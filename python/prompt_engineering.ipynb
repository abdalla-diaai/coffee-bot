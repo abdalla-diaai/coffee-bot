{
 "cells": [
  {
   "cell_type": "code",
   "execution_count": 59,
   "metadata": {},
   "outputs": [
    {
     "data": {
      "text/plain": [
       "True"
      ]
     },
     "execution_count": 59,
     "metadata": {},
     "output_type": "execute_result"
    }
   ],
   "source": [
    "from dotenv import load_dotenv\n",
    "import json\n",
    "from openai import OpenAI\n",
    "import os\n",
    "load_dotenv()"
   ]
  },
  {
   "cell_type": "code",
   "execution_count": 43,
   "metadata": {},
   "outputs": [],
   "source": [
    "client = OpenAI(\n",
    "    api_key = os.getenv(\"RUNPOD_TOKEN\"),\n",
    "    base_url = os.getenv(\"RUNPOD_BASE_URL\")\n",
    ")\n",
    "model_name = os.getenv(\"MODEL_NAME\")"
   ]
  },
  {
   "cell_type": "code",
   "execution_count": 48,
   "metadata": {},
   "outputs": [],
   "source": [
    "messages=[\n",
    "        {\"role\": \"user\", \"content\": \"Why is the capital of Egypt?\"}\n",
    "]\n"
   ]
  },
  {
   "cell_type": "markdown",
   "metadata": {},
   "source": [
    "# get llama response"
   ]
  },
  {
   "cell_type": "code",
   "execution_count": 49,
   "metadata": {},
   "outputs": [],
   "source": [
    "def get_chatbot_response(client, model_name, messages, temperature=0):\n",
    "    input_messages = []\n",
    "    for message in messages:\n",
    "        input_messages.append({\"role\": message[\"role\"], \"content\": message[\"content\"]})\n",
    "    # Create a chat completion\n",
    "    response = client.chat.completions.create(\n",
    "        model=model_name,\n",
    "        messages=input_messages,\n",
    "        temperature=temperature,\n",
    "        max_tokens=2000,\n",
    "    )\n",
    "    return response.choices[0].message.content"
   ]
  },
  {
   "cell_type": "code",
   "execution_count": null,
   "metadata": {},
   "outputs": [],
   "source": [
    "get_chatbot_response(client, model_name, messages)"
   ]
  },
  {
   "cell_type": "markdown",
   "metadata": {},
   "source": [
    "# Prompt engineering\n",
    "## Structured output "
   ]
  },
  {
   "cell_type": "code",
   "execution_count": 51,
   "metadata": {},
   "outputs": [],
   "source": [
    "system_prompt = \"\"\"\n",
    "You are a helper assistant that answer questions about crispr cas9.\n",
    "Your output should be in a structured json format exactly like the one the below. You are not allowed to write anything other than json object:\n",
    "[\n",
    "    {\n",
    "        \"question\": the question that you will answer\n",
    "        \"answer\": concise answer for the question\n",
    "    }\n",
    "]\n",
    "\"\"\""
   ]
  },
  {
   "cell_type": "code",
   "execution_count": 53,
   "metadata": {},
   "outputs": [],
   "source": [
    "messages=[\n",
    "        {\"role\": \"system\", \"content\": system_prompt}\n",
    "]\n",
    "\n",
    "messages.append({\"role\": \"user\", \"content\": \"How to design a crispr-cas9 experiment for gene editing?\"})"
   ]
  },
  {
   "cell_type": "code",
   "execution_count": null,
   "metadata": {},
   "outputs": [],
   "source": [
    "response = get_chatbot_response(client, model_name, messages)"
   ]
  },
  {
   "cell_type": "code",
   "execution_count": 61,
   "metadata": {},
   "outputs": [
    {
     "name": "stdout",
     "output_type": "stream",
     "text": [
      "[{'question': 'How to design a CRISPR-Cas9 experiment for gene editing?', 'answer': {'steps': ['1. Identify the target gene and its function', '2. Design a guide RNA (gRNA) that specifically binds to the target gene', '3. Choose a suitable Cas9 enzyme and its variant (e.g., SpCas9, AsCas9)', '4. Optimize the gRNA-Cas9 complex design for efficient editing', '5. Select a suitable cell type or organism for editing', '6. Validate the gRNA-Cas9 complex using in vitro assays (e.g., PCR, sequencing)', '7. Perform the CRISPR-Cas9 editing experiment using the optimized gRNA-Cas9 complex', '8. Verify the editing efficiency and specificity using molecular biology techniques (e.g., PCR, sequencing, Western blot)', '9. Analyze the edited cells or organisms for desired phenotypes or functions']}}]\n"
     ]
    }
   ],
   "source": [
    "json_response = json.loads(response)\n",
    "print(json_response)"
   ]
  }
 ],
 "metadata": {
  "kernelspec": {
   "display_name": "Python 3",
   "language": "python",
   "name": "python3"
  },
  "language_info": {
   "codemirror_mode": {
    "name": "ipython",
    "version": 3
   },
   "file_extension": ".py",
   "mimetype": "text/x-python",
   "name": "python",
   "nbconvert_exporter": "python",
   "pygments_lexer": "ipython3",
   "version": "3.12.6"
  }
 },
 "nbformat": 4,
 "nbformat_minor": 2
}
