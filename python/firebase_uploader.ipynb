{
 "cells": [
  {
   "cell_type": "code",
   "execution_count": 12,
   "metadata": {},
   "outputs": [
    {
     "data": {
      "text/plain": [
       "True"
      ]
     },
     "execution_count": 12,
     "metadata": {},
     "output_type": "execute_result"
    }
   ],
   "source": [
    "import firebase_admin\n",
    "from firebase_admin import credentials, storage, db\n",
    "import pandas as pd\n",
    "import os\n",
    "from dotenv import load_dotenv\n",
    "\n",
    "load_dotenv()\n"
   ]
  },
  {
   "cell_type": "code",
   "execution_count": 13,
   "metadata": {},
   "outputs": [],
   "source": [
    "service_account_info = {\n",
    "    \"type\": os.getenv(\"FIREBASE_TYPE\"),\n",
    "    \"project_id\": os.getenv(\"FIREBASE_PROJECT_ID\"),\n",
    "    \"private_key_id\": os.getenv(\"FIREBASE_PRIVATE_KEY_ID\"),\n",
    "    \"private_key\": os.getenv(\"FIREBASE_PRIVATE_KEY\"),\n",
    "    \"client_email\": os.getenv(\"FIREBASE_CLIENT_EMAIL\"),\n",
    "    \"client_id\": os.getenv(\"FIREBASE_CLIENT_ID\"),\n",
    "    \"auth_uri\": os.getenv(\"FIREBASE_AUTH_URI\"),\n",
    "    \"token_uri\": os.getenv(\"FIREBASE_TOKEN_URI\"),\n",
    "    \"auth_provider_x509_cert_url\": os.getenv(\"FIREBASE_AUTH_PROVIDER_x509_CERT_URL\"),\n",
    "    \"client_x509_cert_url\": os.getenv(\"FIREBASE_CLIENT_x509_CERT_URL\"),\n",
    "    \"universe_domain\": os.getenv(\"FIREBASE_UNIVERSE_DOMAIN\"),\n",
    "}"
   ]
  },
  {
   "cell_type": "code",
   "execution_count": null,
   "metadata": {},
   "outputs": [],
   "source": [
    "cred = credentials.Certificate(service_account_info)\n",
    "firebase_admin.initialize_app(cred, {\n",
    "    \"storageBucket\": \"coffee-shop-d2720.firebasestorage.app\",\n",
    "    \"databaseURL\": \"https://coffee-shop-d2720-default-rtdb.europe-west1.firebasedatabase.app/\"\n",
    "})\n"
   ]
  },
  {
   "cell_type": "code",
   "execution_count": 15,
   "metadata": {},
   "outputs": [],
   "source": [
    "bucket = storage.bucket()"
   ]
  },
  {
   "cell_type": "markdown",
   "metadata": {},
   "source": [
    "# Upload data"
   ]
  },
  {
   "cell_type": "code",
   "execution_count": 16,
   "metadata": {},
   "outputs": [],
   "source": [
    "images_folder_path = \"products/images\"\n",
    "products_collection = db.reference(\"products\")\n"
   ]
  },
  {
   "cell_type": "code",
   "execution_count": 17,
   "metadata": {},
   "outputs": [
    {
     "data": {
      "text/html": [
       "<div>\n",
       "<style scoped>\n",
       "    .dataframe tbody tr th:only-of-type {\n",
       "        vertical-align: middle;\n",
       "    }\n",
       "\n",
       "    .dataframe tbody tr th {\n",
       "        vertical-align: top;\n",
       "    }\n",
       "\n",
       "    .dataframe thead th {\n",
       "        text-align: right;\n",
       "    }\n",
       "</style>\n",
       "<table border=\"1\" class=\"dataframe\">\n",
       "  <thead>\n",
       "    <tr style=\"text-align: right;\">\n",
       "      <th></th>\n",
       "      <th>name</th>\n",
       "      <th>category</th>\n",
       "      <th>description</th>\n",
       "      <th>ingredients</th>\n",
       "      <th>price</th>\n",
       "      <th>rating</th>\n",
       "      <th>image_path</th>\n",
       "    </tr>\n",
       "  </thead>\n",
       "  <tbody>\n",
       "    <tr>\n",
       "      <th>0</th>\n",
       "      <td>Cappuccino</td>\n",
       "      <td>Coffee</td>\n",
       "      <td>A rich and creamy cappuccino made with freshly...</td>\n",
       "      <td>[Espresso, Steamed Milk, Milk Foam]</td>\n",
       "      <td>4.50</td>\n",
       "      <td>4.7</td>\n",
       "      <td>cappuccino.jpg</td>\n",
       "    </tr>\n",
       "    <tr>\n",
       "      <th>1</th>\n",
       "      <td>Jumbo Savory Scone</td>\n",
       "      <td>Bakery</td>\n",
       "      <td>Deliciously flaky and buttery, this jumbo savo...</td>\n",
       "      <td>[Flour, Butter, Cheese, Herbs, Baking Powder, ...</td>\n",
       "      <td>3.25</td>\n",
       "      <td>4.3</td>\n",
       "      <td>SavoryScone.webp</td>\n",
       "    </tr>\n",
       "    <tr>\n",
       "      <th>2</th>\n",
       "      <td>Latte</td>\n",
       "      <td>Coffee</td>\n",
       "      <td>Smooth and creamy, our latte combines rich esp...</td>\n",
       "      <td>[Espresso, Steamed Milk, Milk Foam]</td>\n",
       "      <td>4.75</td>\n",
       "      <td>4.8</td>\n",
       "      <td>Latte.jpg</td>\n",
       "    </tr>\n",
       "    <tr>\n",
       "      <th>3</th>\n",
       "      <td>Chocolate Chip Biscotti</td>\n",
       "      <td>Bakery</td>\n",
       "      <td>Crunchy and delightful, this chocolate chip bi...</td>\n",
       "      <td>[Flour, Sugar, Chocolate Chips, Eggs, Almonds,...</td>\n",
       "      <td>2.50</td>\n",
       "      <td>4.6</td>\n",
       "      <td>chocolat_biscotti.jpg</td>\n",
       "    </tr>\n",
       "    <tr>\n",
       "      <th>4</th>\n",
       "      <td>Espresso shot</td>\n",
       "      <td>Coffee</td>\n",
       "      <td>A bold shot of rich espresso, our espresso is ...</td>\n",
       "      <td>[Espresso]</td>\n",
       "      <td>2.00</td>\n",
       "      <td>4.9</td>\n",
       "      <td>Espresso_shot.webp</td>\n",
       "    </tr>\n",
       "  </tbody>\n",
       "</table>\n",
       "</div>"
      ],
      "text/plain": [
       "                      name category  \\\n",
       "0               Cappuccino   Coffee   \n",
       "1       Jumbo Savory Scone   Bakery   \n",
       "2                    Latte   Coffee   \n",
       "3  Chocolate Chip Biscotti   Bakery   \n",
       "4            Espresso shot   Coffee   \n",
       "\n",
       "                                         description  \\\n",
       "0  A rich and creamy cappuccino made with freshly...   \n",
       "1  Deliciously flaky and buttery, this jumbo savo...   \n",
       "2  Smooth and creamy, our latte combines rich esp...   \n",
       "3  Crunchy and delightful, this chocolate chip bi...   \n",
       "4  A bold shot of rich espresso, our espresso is ...   \n",
       "\n",
       "                                         ingredients  price  rating  \\\n",
       "0                [Espresso, Steamed Milk, Milk Foam]   4.50     4.7   \n",
       "1  [Flour, Butter, Cheese, Herbs, Baking Powder, ...   3.25     4.3   \n",
       "2                [Espresso, Steamed Milk, Milk Foam]   4.75     4.8   \n",
       "3  [Flour, Sugar, Chocolate Chips, Eggs, Almonds,...   2.50     4.6   \n",
       "4                                         [Espresso]   2.00     4.9   \n",
       "\n",
       "              image_path  \n",
       "0         cappuccino.jpg  \n",
       "1       SavoryScone.webp  \n",
       "2              Latte.jpg  \n",
       "3  chocolat_biscotti.jpg  \n",
       "4     Espresso_shot.webp  "
      ]
     },
     "execution_count": 17,
     "metadata": {},
     "output_type": "execute_result"
    }
   ],
   "source": [
    "df = pd.read_json(\"products/products.jsonl\", lines=True)\n",
    "df.head()"
   ]
  },
  {
   "cell_type": "code",
   "execution_count": 18,
   "metadata": {},
   "outputs": [],
   "source": [
    "def upload_image(bucket, image_path):\n",
    "    image_name = image_path.split(\"/\")[-1]\n",
    "    blob = bucket.blob(f\"product_images/{image_name}\")\n",
    "    # upload image\n",
    "    blob.upload_from_filename(image_path)\n",
    "    # make access of images public + get image url\n",
    "    blob.make_public()\n",
    "    return blob.public_url"
   ]
  },
  {
   "cell_type": "code",
   "execution_count": null,
   "metadata": {},
   "outputs": [
    {
     "name": "stdout",
     "output_type": "stream",
     "text": [
      "0 Cappuccino\n",
      "Added product: Cappuccino (ID: -OIfX3kIyMidaVB0tZsf)\n",
      "1 Jumbo Savory Scone\n",
      "Added product: Jumbo Savory Scone (ID: -OIfX4AfUW2UYs3ZmfwM)\n",
      "2 Latte\n",
      "Added product: Latte (ID: -OIfX4a_Te0ARX2l8lZ_)\n",
      "3 Chocolate Chip Biscotti\n",
      "Added product: Chocolate Chip Biscotti (ID: -OIfX4tfbziKrHBgmNbv)\n",
      "4 Espresso shot\n",
      "Added product: Espresso shot (ID: -OIfX5AIbtWQooLrGU2a)\n",
      "5 Hazelnut Biscotti\n",
      "Added product: Hazelnut Biscotti (ID: -OIfX5YLWAzZKEKEqbjX)\n",
      "6 Chocolate Croissant\n",
      "Added product: Chocolate Croissant (ID: -OIfX5wxoAnjbDx_ypbC)\n",
      "7 Dark chocolate\n",
      "Added product: Dark chocolate (ID: -OIfX6FbSIY_RXkOyHhp)\n",
      "8 Cranberry Scone\n",
      "Added product: Cranberry Scone (ID: -OIfX6Zxg6WaR1WNE3na)\n",
      "9 Croissant\n",
      "Added product: Croissant (ID: -OIfX6vMR0MY1-xLOvYG)\n",
      "10 Almond Croissant\n",
      "Added product: Almond Croissant (ID: -OIfX7KHRlR-3jxTT2YP)\n",
      "11 Ginger Biscotti\n",
      "Added product: Ginger Biscotti (ID: -OIfX7gtyFE02Ujo4CdE)\n",
      "12 Oatmeal Scone\n",
      "Added product: Oatmeal Scone (ID: -OIfX7yUqbArhD62axC5)\n",
      "13 Ginger Scone\n",
      "Added product: Ginger Scone (ID: -OIfX8EPr_mwE8iIGkoT)\n",
      "14 Chocolate syrup\n",
      "Added product: Chocolate syrup (ID: -OIfX8VEbI8EjtRDcAJz)\n",
      "15 Hazelnut syrup\n",
      "Added product: Hazelnut syrup (ID: -OIfX8daSl-V1nkzoSwb)\n",
      "16 Carmel syrup\n",
      "Added product: Carmel syrup (ID: -OIfX8r9x1pINea_5BUI)\n",
      "17 Sugar Free Vanilla syrup\n",
      "Added product: Sugar Free Vanilla syrup (ID: -OIfX93FSl4Fe43DqutL)\n"
     ]
    }
   ],
   "source": [
    "# Remove duplicate rows based on specific columns (e.g., 'name' and 'image_path')\n",
    "df = df.drop_duplicates(subset=['name', 'image_path'])\n",
    "\n",
    "for index, row in df.iterrows():\n",
    "    print(index, row[\"name\"])\n",
    "    image_path = os.path.join(images_folder_path, row[\"image_path\"])\n",
    "    image_url = upload_image(bucket, image_path)\n",
    "    product_data = row.to_dict()\n",
    "    product_data.pop(\"image_path\")\n",
    "    product_data[\"image_url\"] = image_url\n",
    "    # add to firebase\n",
    "    products_collection.push().set(product_data)\n",
    "\n",
    "\n"
   ]
  },
  {
   "cell_type": "code",
   "execution_count": null,
   "metadata": {},
   "outputs": [],
   "source": []
  },
  {
   "cell_type": "code",
   "execution_count": null,
   "metadata": {},
   "outputs": [],
   "source": []
  },
  {
   "cell_type": "code",
   "execution_count": null,
   "metadata": {},
   "outputs": [],
   "source": []
  },
  {
   "cell_type": "code",
   "execution_count": null,
   "metadata": {},
   "outputs": [],
   "source": []
  },
  {
   "cell_type": "code",
   "execution_count": null,
   "metadata": {},
   "outputs": [],
   "source": []
  },
  {
   "cell_type": "code",
   "execution_count": null,
   "metadata": {},
   "outputs": [],
   "source": []
  },
  {
   "cell_type": "code",
   "execution_count": null,
   "metadata": {},
   "outputs": [],
   "source": []
  }
 ],
 "metadata": {
  "kernelspec": {
   "display_name": "Python 3",
   "language": "python",
   "name": "python3"
  },
  "language_info": {
   "codemirror_mode": {
    "name": "ipython",
    "version": 3
   },
   "file_extension": ".py",
   "mimetype": "text/x-python",
   "name": "python",
   "nbconvert_exporter": "python",
   "pygments_lexer": "ipython3",
   "version": "3.12.6"
  }
 },
 "nbformat": 4,
 "nbformat_minor": 2
}
